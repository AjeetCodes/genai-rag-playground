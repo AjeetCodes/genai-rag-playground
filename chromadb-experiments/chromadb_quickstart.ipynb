{
 "cells": [
  {
   "cell_type": "code",
   "execution_count": 1,
   "id": "6666f9b6-ca40-4048-bc68-03638561b2e0",
   "metadata": {},
   "outputs": [
    {
     "name": "stdout",
     "output_type": "stream",
     "text": [
      "Requirement already satisfied: chromadb in /var/www/html/learn/gen-ai/genai-rag-playground/app-env/lib/python3.12/site-packages (1.0.15)\n",
      "Requirement already satisfied: build>=1.0.3 in /var/www/html/learn/gen-ai/genai-rag-playground/app-env/lib/python3.12/site-packages (from chromadb) (1.2.2.post1)\n",
      "Requirement already satisfied: pydantic>=1.9 in /var/www/html/learn/gen-ai/genai-rag-playground/app-env/lib/python3.12/site-packages (from chromadb) (2.11.7)\n",
      "Requirement already satisfied: pybase64>=1.4.1 in /var/www/html/learn/gen-ai/genai-rag-playground/app-env/lib/python3.12/site-packages (from chromadb) (1.4.1)\n",
      "Requirement already satisfied: uvicorn>=0.18.3 in /var/www/html/learn/gen-ai/genai-rag-playground/app-env/lib/python3.12/site-packages (from uvicorn[standard]>=0.18.3->chromadb) (0.32.0)\n",
      "Requirement already satisfied: numpy>=1.22.5 in /var/www/html/learn/gen-ai/genai-rag-playground/app-env/lib/python3.12/site-packages (from chromadb) (2.1.3)\n",
      "Requirement already satisfied: posthog<6.0.0,>=2.4.0 in /var/www/html/learn/gen-ai/genai-rag-playground/app-env/lib/python3.12/site-packages (from chromadb) (3.7.2)\n",
      "Requirement already satisfied: typing-extensions>=4.5.0 in /var/www/html/learn/gen-ai/genai-rag-playground/app-env/lib/python3.12/site-packages (from chromadb) (4.12.2)\n",
      "Requirement already satisfied: onnxruntime>=1.14.1 in /var/www/html/learn/gen-ai/genai-rag-playground/app-env/lib/python3.12/site-packages (from chromadb) (1.20.0)\n",
      "Requirement already satisfied: opentelemetry-api>=1.2.0 in /var/www/html/learn/gen-ai/genai-rag-playground/app-env/lib/python3.12/site-packages (from chromadb) (1.28.2)\n",
      "Requirement already satisfied: opentelemetry-exporter-otlp-proto-grpc>=1.2.0 in /var/www/html/learn/gen-ai/genai-rag-playground/app-env/lib/python3.12/site-packages (from chromadb) (1.28.2)\n",
      "Requirement already satisfied: opentelemetry-sdk>=1.2.0 in /var/www/html/learn/gen-ai/genai-rag-playground/app-env/lib/python3.12/site-packages (from chromadb) (1.28.2)\n",
      "Requirement already satisfied: tokenizers>=0.13.2 in /var/www/html/learn/gen-ai/genai-rag-playground/app-env/lib/python3.12/site-packages (from chromadb) (0.20.3)\n",
      "Requirement already satisfied: pypika>=0.48.9 in /var/www/html/learn/gen-ai/genai-rag-playground/app-env/lib/python3.12/site-packages (from chromadb) (0.48.9)\n",
      "Requirement already satisfied: tqdm>=4.65.0 in /var/www/html/learn/gen-ai/genai-rag-playground/app-env/lib/python3.12/site-packages (from chromadb) (4.67.0)\n",
      "Requirement already satisfied: overrides>=7.3.1 in /var/www/html/learn/gen-ai/genai-rag-playground/app-env/lib/python3.12/site-packages (from chromadb) (7.7.0)\n",
      "Requirement already satisfied: importlib-resources in /var/www/html/learn/gen-ai/genai-rag-playground/app-env/lib/python3.12/site-packages (from chromadb) (6.4.5)\n",
      "Requirement already satisfied: grpcio>=1.58.0 in /var/www/html/learn/gen-ai/genai-rag-playground/app-env/lib/python3.12/site-packages (from chromadb) (1.73.1)\n",
      "Requirement already satisfied: bcrypt>=4.0.1 in /var/www/html/learn/gen-ai/genai-rag-playground/app-env/lib/python3.12/site-packages (from chromadb) (4.2.1)\n",
      "Requirement already satisfied: typer>=0.9.0 in /var/www/html/learn/gen-ai/genai-rag-playground/app-env/lib/python3.12/site-packages (from chromadb) (0.13.1)\n",
      "Requirement already satisfied: kubernetes>=28.1.0 in /var/www/html/learn/gen-ai/genai-rag-playground/app-env/lib/python3.12/site-packages (from chromadb) (31.0.0)\n",
      "Requirement already satisfied: tenacity>=8.2.3 in /var/www/html/learn/gen-ai/genai-rag-playground/app-env/lib/python3.12/site-packages (from chromadb) (9.0.0)\n",
      "Requirement already satisfied: pyyaml>=6.0.0 in /var/www/html/learn/gen-ai/genai-rag-playground/app-env/lib/python3.12/site-packages (from chromadb) (6.0.2)\n",
      "Requirement already satisfied: mmh3>=4.0.1 in /var/www/html/learn/gen-ai/genai-rag-playground/app-env/lib/python3.12/site-packages (from chromadb) (5.0.1)\n",
      "Requirement already satisfied: orjson>=3.9.12 in /var/www/html/learn/gen-ai/genai-rag-playground/app-env/lib/python3.12/site-packages (from chromadb) (3.10.11)\n",
      "Requirement already satisfied: httpx>=0.27.0 in /var/www/html/learn/gen-ai/genai-rag-playground/app-env/lib/python3.12/site-packages (from chromadb) (0.27.2)\n",
      "Requirement already satisfied: rich>=10.11.0 in /var/www/html/learn/gen-ai/genai-rag-playground/app-env/lib/python3.12/site-packages (from chromadb) (13.9.4)\n",
      "Requirement already satisfied: jsonschema>=4.19.0 in /var/www/html/learn/gen-ai/genai-rag-playground/app-env/lib/python3.12/site-packages (from chromadb) (4.23.0)\n",
      "Requirement already satisfied: packaging>=19.1 in /var/www/html/learn/gen-ai/genai-rag-playground/app-env/lib/python3.12/site-packages (from build>=1.0.3->chromadb) (24.2)\n",
      "Requirement already satisfied: pyproject_hooks in /var/www/html/learn/gen-ai/genai-rag-playground/app-env/lib/python3.12/site-packages (from build>=1.0.3->chromadb) (1.2.0)\n",
      "Requirement already satisfied: anyio in /var/www/html/learn/gen-ai/genai-rag-playground/app-env/lib/python3.12/site-packages (from httpx>=0.27.0->chromadb) (4.6.2.post1)\n",
      "Requirement already satisfied: certifi in /var/www/html/learn/gen-ai/genai-rag-playground/app-env/lib/python3.12/site-packages (from httpx>=0.27.0->chromadb) (2024.8.30)\n",
      "Requirement already satisfied: httpcore==1.* in /var/www/html/learn/gen-ai/genai-rag-playground/app-env/lib/python3.12/site-packages (from httpx>=0.27.0->chromadb) (1.0.7)\n",
      "Requirement already satisfied: idna in /var/www/html/learn/gen-ai/genai-rag-playground/app-env/lib/python3.12/site-packages (from httpx>=0.27.0->chromadb) (3.10)\n",
      "Requirement already satisfied: sniffio in /var/www/html/learn/gen-ai/genai-rag-playground/app-env/lib/python3.12/site-packages (from httpx>=0.27.0->chromadb) (1.3.1)\n",
      "Requirement already satisfied: h11<0.15,>=0.13 in /var/www/html/learn/gen-ai/genai-rag-playground/app-env/lib/python3.12/site-packages (from httpcore==1.*->httpx>=0.27.0->chromadb) (0.14.0)\n",
      "Requirement already satisfied: attrs>=22.2.0 in /var/www/html/learn/gen-ai/genai-rag-playground/app-env/lib/python3.12/site-packages (from jsonschema>=4.19.0->chromadb) (24.2.0)\n",
      "Requirement already satisfied: jsonschema-specifications>=2023.03.6 in /var/www/html/learn/gen-ai/genai-rag-playground/app-env/lib/python3.12/site-packages (from jsonschema>=4.19.0->chromadb) (2024.10.1)\n",
      "Requirement already satisfied: referencing>=0.28.4 in /var/www/html/learn/gen-ai/genai-rag-playground/app-env/lib/python3.12/site-packages (from jsonschema>=4.19.0->chromadb) (0.35.1)\n",
      "Requirement already satisfied: rpds-py>=0.7.1 in /var/www/html/learn/gen-ai/genai-rag-playground/app-env/lib/python3.12/site-packages (from jsonschema>=4.19.0->chromadb) (0.21.0)\n",
      "Requirement already satisfied: six>=1.9.0 in /var/www/html/learn/gen-ai/genai-rag-playground/app-env/lib/python3.12/site-packages (from kubernetes>=28.1.0->chromadb) (1.16.0)\n",
      "Requirement already satisfied: python-dateutil>=2.5.3 in /var/www/html/learn/gen-ai/genai-rag-playground/app-env/lib/python3.12/site-packages (from kubernetes>=28.1.0->chromadb) (2.9.0.post0)\n",
      "Requirement already satisfied: google-auth>=1.0.1 in /var/www/html/learn/gen-ai/genai-rag-playground/app-env/lib/python3.12/site-packages (from kubernetes>=28.1.0->chromadb) (2.36.0)\n",
      "Requirement already satisfied: websocket-client!=0.40.0,!=0.41.*,!=0.42.*,>=0.32.0 in /var/www/html/learn/gen-ai/genai-rag-playground/app-env/lib/python3.12/site-packages (from kubernetes>=28.1.0->chromadb) (1.8.0)\n",
      "Requirement already satisfied: requests in /var/www/html/learn/gen-ai/genai-rag-playground/app-env/lib/python3.12/site-packages (from kubernetes>=28.1.0->chromadb) (2.32.3)\n",
      "Requirement already satisfied: requests-oauthlib in /var/www/html/learn/gen-ai/genai-rag-playground/app-env/lib/python3.12/site-packages (from kubernetes>=28.1.0->chromadb) (2.0.0)\n",
      "Requirement already satisfied: oauthlib>=3.2.2 in /var/www/html/learn/gen-ai/genai-rag-playground/app-env/lib/python3.12/site-packages (from kubernetes>=28.1.0->chromadb) (3.2.2)\n",
      "Requirement already satisfied: urllib3>=1.24.2 in /var/www/html/learn/gen-ai/genai-rag-playground/app-env/lib/python3.12/site-packages (from kubernetes>=28.1.0->chromadb) (2.2.3)\n",
      "Requirement already satisfied: durationpy>=0.7 in /var/www/html/learn/gen-ai/genai-rag-playground/app-env/lib/python3.12/site-packages (from kubernetes>=28.1.0->chromadb) (0.9)\n",
      "Requirement already satisfied: coloredlogs in /var/www/html/learn/gen-ai/genai-rag-playground/app-env/lib/python3.12/site-packages (from onnxruntime>=1.14.1->chromadb) (15.0.1)\n",
      "Requirement already satisfied: flatbuffers in /var/www/html/learn/gen-ai/genai-rag-playground/app-env/lib/python3.12/site-packages (from onnxruntime>=1.14.1->chromadb) (24.3.25)\n",
      "Requirement already satisfied: protobuf in /var/www/html/learn/gen-ai/genai-rag-playground/app-env/lib/python3.12/site-packages (from onnxruntime>=1.14.1->chromadb) (5.28.3)\n",
      "Requirement already satisfied: sympy in /var/www/html/learn/gen-ai/genai-rag-playground/app-env/lib/python3.12/site-packages (from onnxruntime>=1.14.1->chromadb) (1.13.3)\n",
      "Requirement already satisfied: deprecated>=1.2.6 in /var/www/html/learn/gen-ai/genai-rag-playground/app-env/lib/python3.12/site-packages (from opentelemetry-api>=1.2.0->chromadb) (1.2.15)\n",
      "Requirement already satisfied: importlib-metadata<=8.5.0,>=6.0 in /var/www/html/learn/gen-ai/genai-rag-playground/app-env/lib/python3.12/site-packages (from opentelemetry-api>=1.2.0->chromadb) (8.5.0)\n",
      "Requirement already satisfied: googleapis-common-protos~=1.52 in /var/www/html/learn/gen-ai/genai-rag-playground/app-env/lib/python3.12/site-packages (from opentelemetry-exporter-otlp-proto-grpc>=1.2.0->chromadb) (1.66.0)\n",
      "Requirement already satisfied: opentelemetry-exporter-otlp-proto-common==1.28.2 in /var/www/html/learn/gen-ai/genai-rag-playground/app-env/lib/python3.12/site-packages (from opentelemetry-exporter-otlp-proto-grpc>=1.2.0->chromadb) (1.28.2)\n",
      "Requirement already satisfied: opentelemetry-proto==1.28.2 in /var/www/html/learn/gen-ai/genai-rag-playground/app-env/lib/python3.12/site-packages (from opentelemetry-exporter-otlp-proto-grpc>=1.2.0->chromadb) (1.28.2)\n",
      "Requirement already satisfied: opentelemetry-semantic-conventions==0.49b2 in /var/www/html/learn/gen-ai/genai-rag-playground/app-env/lib/python3.12/site-packages (from opentelemetry-sdk>=1.2.0->chromadb) (0.49b2)\n",
      "Requirement already satisfied: monotonic>=1.5 in /var/www/html/learn/gen-ai/genai-rag-playground/app-env/lib/python3.12/site-packages (from posthog<6.0.0,>=2.4.0->chromadb) (1.6)\n",
      "Requirement already satisfied: backoff>=1.10.0 in /var/www/html/learn/gen-ai/genai-rag-playground/app-env/lib/python3.12/site-packages (from posthog<6.0.0,>=2.4.0->chromadb) (2.2.1)\n",
      "Requirement already satisfied: annotated-types>=0.6.0 in /var/www/html/learn/gen-ai/genai-rag-playground/app-env/lib/python3.12/site-packages (from pydantic>=1.9->chromadb) (0.7.0)\n",
      "Requirement already satisfied: pydantic-core==2.33.2 in /var/www/html/learn/gen-ai/genai-rag-playground/app-env/lib/python3.12/site-packages (from pydantic>=1.9->chromadb) (2.33.2)\n",
      "Requirement already satisfied: typing-inspection>=0.4.0 in /var/www/html/learn/gen-ai/genai-rag-playground/app-env/lib/python3.12/site-packages (from pydantic>=1.9->chromadb) (0.4.1)\n",
      "Requirement already satisfied: markdown-it-py>=2.2.0 in /var/www/html/learn/gen-ai/genai-rag-playground/app-env/lib/python3.12/site-packages (from rich>=10.11.0->chromadb) (3.0.0)\n",
      "Requirement already satisfied: pygments<3.0.0,>=2.13.0 in /var/www/html/learn/gen-ai/genai-rag-playground/app-env/lib/python3.12/site-packages (from rich>=10.11.0->chromadb) (2.18.0)\n",
      "Requirement already satisfied: huggingface-hub<1.0,>=0.16.4 in /var/www/html/learn/gen-ai/genai-rag-playground/app-env/lib/python3.12/site-packages (from tokenizers>=0.13.2->chromadb) (0.26.2)\n",
      "Requirement already satisfied: click>=8.0.0 in /var/www/html/learn/gen-ai/genai-rag-playground/app-env/lib/python3.12/site-packages (from typer>=0.9.0->chromadb) (8.1.7)\n",
      "Requirement already satisfied: shellingham>=1.3.0 in /var/www/html/learn/gen-ai/genai-rag-playground/app-env/lib/python3.12/site-packages (from typer>=0.9.0->chromadb) (1.5.4)\n",
      "Requirement already satisfied: httptools>=0.5.0 in /var/www/html/learn/gen-ai/genai-rag-playground/app-env/lib/python3.12/site-packages (from uvicorn[standard]>=0.18.3->chromadb) (0.6.4)\n",
      "Requirement already satisfied: python-dotenv>=0.13 in /var/www/html/learn/gen-ai/genai-rag-playground/app-env/lib/python3.12/site-packages (from uvicorn[standard]>=0.18.3->chromadb) (1.0.1)\n",
      "Requirement already satisfied: uvloop!=0.15.0,!=0.15.1,>=0.14.0 in /var/www/html/learn/gen-ai/genai-rag-playground/app-env/lib/python3.12/site-packages (from uvicorn[standard]>=0.18.3->chromadb) (0.21.0)\n",
      "Requirement already satisfied: watchfiles>=0.13 in /var/www/html/learn/gen-ai/genai-rag-playground/app-env/lib/python3.12/site-packages (from uvicorn[standard]>=0.18.3->chromadb) (0.24.0)\n",
      "Requirement already satisfied: websockets>=10.4 in /var/www/html/learn/gen-ai/genai-rag-playground/app-env/lib/python3.12/site-packages (from uvicorn[standard]>=0.18.3->chromadb) (14.1)\n",
      "Requirement already satisfied: wrapt<2,>=1.10 in /var/www/html/learn/gen-ai/genai-rag-playground/app-env/lib/python3.12/site-packages (from deprecated>=1.2.6->opentelemetry-api>=1.2.0->chromadb) (1.16.0)\n",
      "Requirement already satisfied: cachetools<6.0,>=2.0.0 in /var/www/html/learn/gen-ai/genai-rag-playground/app-env/lib/python3.12/site-packages (from google-auth>=1.0.1->kubernetes>=28.1.0->chromadb) (5.5.0)\n",
      "Requirement already satisfied: pyasn1-modules>=0.2.1 in /var/www/html/learn/gen-ai/genai-rag-playground/app-env/lib/python3.12/site-packages (from google-auth>=1.0.1->kubernetes>=28.1.0->chromadb) (0.4.1)\n",
      "Requirement already satisfied: rsa<5,>=3.1.4 in /var/www/html/learn/gen-ai/genai-rag-playground/app-env/lib/python3.12/site-packages (from google-auth>=1.0.1->kubernetes>=28.1.0->chromadb) (4.9)\n",
      "Requirement already satisfied: filelock in /var/www/html/learn/gen-ai/genai-rag-playground/app-env/lib/python3.12/site-packages (from huggingface-hub<1.0,>=0.16.4->tokenizers>=0.13.2->chromadb) (3.16.1)\n",
      "Requirement already satisfied: fsspec>=2023.5.0 in /var/www/html/learn/gen-ai/genai-rag-playground/app-env/lib/python3.12/site-packages (from huggingface-hub<1.0,>=0.16.4->tokenizers>=0.13.2->chromadb) (2024.10.0)\n",
      "Requirement already satisfied: zipp>=3.20 in /var/www/html/learn/gen-ai/genai-rag-playground/app-env/lib/python3.12/site-packages (from importlib-metadata<=8.5.0,>=6.0->opentelemetry-api>=1.2.0->chromadb) (3.21.0)\n",
      "Requirement already satisfied: mdurl~=0.1 in /var/www/html/learn/gen-ai/genai-rag-playground/app-env/lib/python3.12/site-packages (from markdown-it-py>=2.2.0->rich>=10.11.0->chromadb) (0.1.2)\n",
      "Requirement already satisfied: charset-normalizer<4,>=2 in /var/www/html/learn/gen-ai/genai-rag-playground/app-env/lib/python3.12/site-packages (from requests->kubernetes>=28.1.0->chromadb) (3.4.0)\n",
      "Requirement already satisfied: humanfriendly>=9.1 in /var/www/html/learn/gen-ai/genai-rag-playground/app-env/lib/python3.12/site-packages (from coloredlogs->onnxruntime>=1.14.1->chromadb) (10.0)\n",
      "Requirement already satisfied: mpmath<1.4,>=1.1.0 in /var/www/html/learn/gen-ai/genai-rag-playground/app-env/lib/python3.12/site-packages (from sympy->onnxruntime>=1.14.1->chromadb) (1.3.0)\n",
      "Requirement already satisfied: pyasn1<0.7.0,>=0.4.6 in /var/www/html/learn/gen-ai/genai-rag-playground/app-env/lib/python3.12/site-packages (from pyasn1-modules>=0.2.1->google-auth>=1.0.1->kubernetes>=28.1.0->chromadb) (0.6.1)\n",
      "Note: you may need to restart the kernel to use updated packages.\n"
     ]
    }
   ],
   "source": [
    "%pip install chromadb"
   ]
  },
  {
   "cell_type": "code",
   "execution_count": 2,
   "id": "a628b29e-ea85-4cf3-afd1-2565f7217727",
   "metadata": {},
   "outputs": [],
   "source": [
    "import chromadb"
   ]
  },
  {
   "cell_type": "code",
   "execution_count": 3,
   "id": "07cbffcc-c2ad-483d-b5f4-60bc1046b9e5",
   "metadata": {},
   "outputs": [],
   "source": [
    "client = chromadb.PersistentClient()"
   ]
  },
  {
   "cell_type": "code",
   "execution_count": 4,
   "id": "7dd9c4cc-4cd0-4c17-8b4c-d78761cb0e5b",
   "metadata": {},
   "outputs": [
    {
     "data": {
      "text/plain": [
       "1752895214731382169"
      ]
     },
     "execution_count": 4,
     "metadata": {},
     "output_type": "execute_result"
    }
   ],
   "source": [
    "client.heartbeat() # returns a nanosecond heartbeat. Useful for making sure the client remains connected.\n",
    "# client.reset() # Empties and completely resets the database. ⚠️ This is destructive and not reversible.\n"
   ]
  },
  {
   "cell_type": "code",
   "execution_count": 10,
   "id": "68a2a03f-ad2e-4042-8219-48eae6f43532",
   "metadata": {},
   "outputs": [
    {
     "name": "stdout",
     "output_type": "stream",
     "text": [
      "collection already exists: my_collection\n"
     ]
    }
   ],
   "source": [
    "collection_name = \"my_collection\"\n",
    "existing_collections = client.list_collections()\n",
    "# list(existing_collections)\n",
    "if collection_name not in [c.name for c in existing_collections]:\n",
    "    collection = client.create_collection(name=collection_name)\n",
    "else:\n",
    "    print(f\"collection already exists: {collection_name}\")\n",
    "    collection = client.get_collection(collection_name)\n",
    "\n"
   ]
  },
  {
   "cell_type": "code",
   "execution_count": 11,
   "id": "4fd6ddb1-1d82-4236-abbc-6fab1cbc727c",
   "metadata": {},
   "outputs": [],
   "source": [
    "collection.add(\n",
    "    documents=[\"lorem ipsum...\", \"doc2\", \"doc3\"],\n",
    "    metadatas=[{\"chapter\": \"3\", \"verse\": \"16\"}, {\"chapter\": \"3\", \"verse\": \"5\"}, {\"chapter\": \"29\", \"verse\": \"11\"}],\n",
    "    ids=[\"id1\", \"id2\", \"id3\"]\n",
    ")\n"
   ]
  },
  {
   "cell_type": "code",
   "execution_count": 12,
   "id": "05e533b9-7a14-4881-8ed0-ad15baa92025",
   "metadata": {},
   "outputs": [],
   "source": [
    "# collection.get()\n",
    "student_info = \"\"\"\n",
    "Alexandra Thompson, a 19-year-old computer science sophomore with a 3.7 GPA,\n",
    "is a member of the programming and chess clubs who enjoys pizza, swimming, and hiking\n",
    "in her free time in hopes of working at a tech company after graduating from the University of Washington.\n",
    "\"\"\"\n",
    "collection.add(\n",
    "    documents=[student_info],\n",
    "    metadatas=[{'source': 'student_info'}],\n",
    "    ids=['id1']\n",
    ")\n"
   ]
  },
  {
   "cell_type": "code",
   "execution_count": 13,
   "id": "6685b82c",
   "metadata": {},
   "outputs": [
    {
     "data": {
      "text/plain": [
       "{'ids': [['id1', 'id2']],\n",
       " 'embeddings': None,\n",
       " 'documents': [['lorem ipsum...', 'doc2']],\n",
       " 'uris': None,\n",
       " 'included': ['metadatas', 'documents', 'distances'],\n",
       " 'data': None,\n",
       " 'metadatas': [[{'chapter': '3', 'verse': '16'},\n",
       "   {'verse': '5', 'chapter': '3'}]],\n",
       " 'distances': [[1.680431842803955, 1.6820580959320068]]}"
      ]
     },
     "execution_count": 13,
     "metadata": {},
     "output_type": "execute_result"
    }
   ],
   "source": [
    "results = collection.query(\n",
    "    query_texts=[\"What is the student name?\"],\n",
    "    n_results=2\n",
    ")\n",
    "results"
   ]
  }
 ],
 "metadata": {
  "kernelspec": {
   "display_name": "app-env",
   "language": "python",
   "name": "python3"
  },
  "language_info": {
   "codemirror_mode": {
    "name": "ipython",
    "version": 3
   },
   "file_extension": ".py",
   "mimetype": "text/x-python",
   "name": "python",
   "nbconvert_exporter": "python",
   "pygments_lexer": "ipython3",
   "version": "3.12.3"
  }
 },
 "nbformat": 4,
 "nbformat_minor": 5
}
