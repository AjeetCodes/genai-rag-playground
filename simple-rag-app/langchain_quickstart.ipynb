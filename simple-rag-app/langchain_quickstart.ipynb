{
 "cells": [
  {
   "cell_type": "code",
   "execution_count": 1,
   "id": "24b9adfa",
   "metadata": {},
   "outputs": [
    {
     "name": "stdout",
     "output_type": "stream",
     "text": [
      "Requirement already satisfied: langchain in /var/www/html/learn/gen-ai/genai-rag-playground/app-env/lib/python3.12/site-packages (0.3.26)\n",
      "Requirement already satisfied: langchain-core<1.0.0,>=0.3.66 in /var/www/html/learn/gen-ai/genai-rag-playground/app-env/lib/python3.12/site-packages (from langchain) (0.3.69)\n",
      "Requirement already satisfied: langchain-text-splitters<1.0.0,>=0.3.8 in /var/www/html/learn/gen-ai/genai-rag-playground/app-env/lib/python3.12/site-packages (from langchain) (0.3.8)\n",
      "Requirement already satisfied: langsmith>=0.1.17 in /var/www/html/learn/gen-ai/genai-rag-playground/app-env/lib/python3.12/site-packages (from langchain) (0.4.6)\n",
      "Requirement already satisfied: pydantic<3.0.0,>=2.7.4 in /var/www/html/learn/gen-ai/genai-rag-playground/app-env/lib/python3.12/site-packages (from langchain) (2.11.7)\n",
      "Requirement already satisfied: SQLAlchemy<3,>=1.4 in /var/www/html/learn/gen-ai/genai-rag-playground/app-env/lib/python3.12/site-packages (from langchain) (2.0.41)\n",
      "Requirement already satisfied: requests<3,>=2 in /var/www/html/learn/gen-ai/genai-rag-playground/app-env/lib/python3.12/site-packages (from langchain) (2.32.3)\n",
      "Requirement already satisfied: PyYAML>=5.3 in /var/www/html/learn/gen-ai/genai-rag-playground/app-env/lib/python3.12/site-packages (from langchain) (6.0.2)\n",
      "Requirement already satisfied: tenacity!=8.4.0,<10.0.0,>=8.1.0 in /var/www/html/learn/gen-ai/genai-rag-playground/app-env/lib/python3.12/site-packages (from langchain-core<1.0.0,>=0.3.66->langchain) (9.0.0)\n",
      "Requirement already satisfied: jsonpatch<2.0,>=1.33 in /var/www/html/learn/gen-ai/genai-rag-playground/app-env/lib/python3.12/site-packages (from langchain-core<1.0.0,>=0.3.66->langchain) (1.33)\n",
      "Requirement already satisfied: typing-extensions>=4.7 in /var/www/html/learn/gen-ai/genai-rag-playground/app-env/lib/python3.12/site-packages (from langchain-core<1.0.0,>=0.3.66->langchain) (4.12.2)\n",
      "Requirement already satisfied: packaging>=23.2 in /var/www/html/learn/gen-ai/genai-rag-playground/app-env/lib/python3.12/site-packages (from langchain-core<1.0.0,>=0.3.66->langchain) (24.2)\n",
      "Requirement already satisfied: httpx<1,>=0.23.0 in /var/www/html/learn/gen-ai/genai-rag-playground/app-env/lib/python3.12/site-packages (from langsmith>=0.1.17->langchain) (0.27.2)\n",
      "Requirement already satisfied: orjson<4.0.0,>=3.9.14 in /var/www/html/learn/gen-ai/genai-rag-playground/app-env/lib/python3.12/site-packages (from langsmith>=0.1.17->langchain) (3.10.11)\n",
      "Requirement already satisfied: requests-toolbelt<2.0.0,>=1.0.0 in /var/www/html/learn/gen-ai/genai-rag-playground/app-env/lib/python3.12/site-packages (from langsmith>=0.1.17->langchain) (1.0.0)\n",
      "Requirement already satisfied: zstandard<0.24.0,>=0.23.0 in /var/www/html/learn/gen-ai/genai-rag-playground/app-env/lib/python3.12/site-packages (from langsmith>=0.1.17->langchain) (0.23.0)\n",
      "Requirement already satisfied: annotated-types>=0.6.0 in /var/www/html/learn/gen-ai/genai-rag-playground/app-env/lib/python3.12/site-packages (from pydantic<3.0.0,>=2.7.4->langchain) (0.7.0)\n",
      "Requirement already satisfied: pydantic-core==2.33.2 in /var/www/html/learn/gen-ai/genai-rag-playground/app-env/lib/python3.12/site-packages (from pydantic<3.0.0,>=2.7.4->langchain) (2.33.2)\n",
      "Requirement already satisfied: typing-inspection>=0.4.0 in /var/www/html/learn/gen-ai/genai-rag-playground/app-env/lib/python3.12/site-packages (from pydantic<3.0.0,>=2.7.4->langchain) (0.4.1)\n",
      "Requirement already satisfied: charset-normalizer<4,>=2 in /var/www/html/learn/gen-ai/genai-rag-playground/app-env/lib/python3.12/site-packages (from requests<3,>=2->langchain) (3.4.0)\n",
      "Requirement already satisfied: idna<4,>=2.5 in /var/www/html/learn/gen-ai/genai-rag-playground/app-env/lib/python3.12/site-packages (from requests<3,>=2->langchain) (3.10)\n",
      "Requirement already satisfied: urllib3<3,>=1.21.1 in /var/www/html/learn/gen-ai/genai-rag-playground/app-env/lib/python3.12/site-packages (from requests<3,>=2->langchain) (2.2.3)\n",
      "Requirement already satisfied: certifi>=2017.4.17 in /var/www/html/learn/gen-ai/genai-rag-playground/app-env/lib/python3.12/site-packages (from requests<3,>=2->langchain) (2024.8.30)\n",
      "Requirement already satisfied: greenlet>=1 in /var/www/html/learn/gen-ai/genai-rag-playground/app-env/lib/python3.12/site-packages (from SQLAlchemy<3,>=1.4->langchain) (3.2.3)\n",
      "Requirement already satisfied: anyio in /var/www/html/learn/gen-ai/genai-rag-playground/app-env/lib/python3.12/site-packages (from httpx<1,>=0.23.0->langsmith>=0.1.17->langchain) (4.6.2.post1)\n",
      "Requirement already satisfied: httpcore==1.* in /var/www/html/learn/gen-ai/genai-rag-playground/app-env/lib/python3.12/site-packages (from httpx<1,>=0.23.0->langsmith>=0.1.17->langchain) (1.0.7)\n",
      "Requirement already satisfied: sniffio in /var/www/html/learn/gen-ai/genai-rag-playground/app-env/lib/python3.12/site-packages (from httpx<1,>=0.23.0->langsmith>=0.1.17->langchain) (1.3.1)\n",
      "Requirement already satisfied: h11<0.15,>=0.13 in /var/www/html/learn/gen-ai/genai-rag-playground/app-env/lib/python3.12/site-packages (from httpcore==1.*->httpx<1,>=0.23.0->langsmith>=0.1.17->langchain) (0.14.0)\n",
      "Requirement already satisfied: jsonpointer>=1.9 in /var/www/html/learn/gen-ai/genai-rag-playground/app-env/lib/python3.12/site-packages (from jsonpatch<2.0,>=1.33->langchain-core<1.0.0,>=0.3.66->langchain) (3.0.0)\n",
      "Note: you may need to restart the kernel to use updated packages.\n"
     ]
    }
   ],
   "source": [
    "%pip install langchain"
   ]
  },
  {
   "cell_type": "code",
   "execution_count": 2,
   "id": "657455bc",
   "metadata": {},
   "outputs": [
    {
     "name": "stdout",
     "output_type": "stream",
     "text": [
      "Requirement already satisfied: langchain in /var/www/html/learn/gen-ai/genai-rag-playground/app-env/lib/python3.12/site-packages (0.3.26)\n",
      "Requirement already satisfied: langchain-google-genai in /var/www/html/learn/gen-ai/genai-rag-playground/app-env/lib/python3.12/site-packages (2.0.10)\n",
      "Requirement already satisfied: google-generativeai in /var/www/html/learn/gen-ai/genai-rag-playground/app-env/lib/python3.12/site-packages (0.8.5)\n",
      "Requirement already satisfied: langchain-core<1.0.0,>=0.3.66 in /var/www/html/learn/gen-ai/genai-rag-playground/app-env/lib/python3.12/site-packages (from langchain) (0.3.69)\n",
      "Requirement already satisfied: langchain-text-splitters<1.0.0,>=0.3.8 in /var/www/html/learn/gen-ai/genai-rag-playground/app-env/lib/python3.12/site-packages (from langchain) (0.3.8)\n",
      "Requirement already satisfied: langsmith>=0.1.17 in /var/www/html/learn/gen-ai/genai-rag-playground/app-env/lib/python3.12/site-packages (from langchain) (0.4.6)\n",
      "Requirement already satisfied: pydantic<3.0.0,>=2.7.4 in /var/www/html/learn/gen-ai/genai-rag-playground/app-env/lib/python3.12/site-packages (from langchain) (2.11.7)\n",
      "Requirement already satisfied: SQLAlchemy<3,>=1.4 in /var/www/html/learn/gen-ai/genai-rag-playground/app-env/lib/python3.12/site-packages (from langchain) (2.0.41)\n",
      "Requirement already satisfied: requests<3,>=2 in /var/www/html/learn/gen-ai/genai-rag-playground/app-env/lib/python3.12/site-packages (from langchain) (2.32.3)\n",
      "Requirement already satisfied: PyYAML>=5.3 in /var/www/html/learn/gen-ai/genai-rag-playground/app-env/lib/python3.12/site-packages (from langchain) (6.0.2)\n",
      "Requirement already satisfied: filetype<2.0.0,>=1.2.0 in /var/www/html/learn/gen-ai/genai-rag-playground/app-env/lib/python3.12/site-packages (from langchain-google-genai) (1.2.0)\n",
      "Requirement already satisfied: google-ai-generativelanguage==0.6.15 in /var/www/html/learn/gen-ai/genai-rag-playground/app-env/lib/python3.12/site-packages (from google-generativeai) (0.6.15)\n",
      "Requirement already satisfied: google-api-core in /var/www/html/learn/gen-ai/genai-rag-playground/app-env/lib/python3.12/site-packages (from google-generativeai) (2.25.1)\n",
      "Requirement already satisfied: google-api-python-client in /var/www/html/learn/gen-ai/genai-rag-playground/app-env/lib/python3.12/site-packages (from google-generativeai) (2.176.0)\n",
      "Requirement already satisfied: google-auth>=2.15.0 in /var/www/html/learn/gen-ai/genai-rag-playground/app-env/lib/python3.12/site-packages (from google-generativeai) (2.36.0)\n",
      "Requirement already satisfied: protobuf in /var/www/html/learn/gen-ai/genai-rag-playground/app-env/lib/python3.12/site-packages (from google-generativeai) (5.28.3)\n",
      "Requirement already satisfied: tqdm in /var/www/html/learn/gen-ai/genai-rag-playground/app-env/lib/python3.12/site-packages (from google-generativeai) (4.67.0)\n",
      "Requirement already satisfied: typing-extensions in /var/www/html/learn/gen-ai/genai-rag-playground/app-env/lib/python3.12/site-packages (from google-generativeai) (4.12.2)\n",
      "Requirement already satisfied: proto-plus<2.0.0dev,>=1.22.3 in /var/www/html/learn/gen-ai/genai-rag-playground/app-env/lib/python3.12/site-packages (from google-ai-generativelanguage==0.6.15->google-generativeai) (1.26.1)\n",
      "Requirement already satisfied: googleapis-common-protos<2.0.0,>=1.56.2 in /var/www/html/learn/gen-ai/genai-rag-playground/app-env/lib/python3.12/site-packages (from google-api-core->google-generativeai) (1.66.0)\n",
      "Requirement already satisfied: cachetools<6.0,>=2.0.0 in /var/www/html/learn/gen-ai/genai-rag-playground/app-env/lib/python3.12/site-packages (from google-auth>=2.15.0->google-generativeai) (5.5.0)\n",
      "Requirement already satisfied: pyasn1-modules>=0.2.1 in /var/www/html/learn/gen-ai/genai-rag-playground/app-env/lib/python3.12/site-packages (from google-auth>=2.15.0->google-generativeai) (0.4.1)\n",
      "Requirement already satisfied: rsa<5,>=3.1.4 in /var/www/html/learn/gen-ai/genai-rag-playground/app-env/lib/python3.12/site-packages (from google-auth>=2.15.0->google-generativeai) (4.9)\n",
      "Requirement already satisfied: tenacity!=8.4.0,<10.0.0,>=8.1.0 in /var/www/html/learn/gen-ai/genai-rag-playground/app-env/lib/python3.12/site-packages (from langchain-core<1.0.0,>=0.3.66->langchain) (9.0.0)\n",
      "Requirement already satisfied: jsonpatch<2.0,>=1.33 in /var/www/html/learn/gen-ai/genai-rag-playground/app-env/lib/python3.12/site-packages (from langchain-core<1.0.0,>=0.3.66->langchain) (1.33)\n",
      "Requirement already satisfied: packaging>=23.2 in /var/www/html/learn/gen-ai/genai-rag-playground/app-env/lib/python3.12/site-packages (from langchain-core<1.0.0,>=0.3.66->langchain) (24.2)\n",
      "Requirement already satisfied: httpx<1,>=0.23.0 in /var/www/html/learn/gen-ai/genai-rag-playground/app-env/lib/python3.12/site-packages (from langsmith>=0.1.17->langchain) (0.27.2)\n",
      "Requirement already satisfied: orjson<4.0.0,>=3.9.14 in /var/www/html/learn/gen-ai/genai-rag-playground/app-env/lib/python3.12/site-packages (from langsmith>=0.1.17->langchain) (3.10.11)\n",
      "Requirement already satisfied: requests-toolbelt<2.0.0,>=1.0.0 in /var/www/html/learn/gen-ai/genai-rag-playground/app-env/lib/python3.12/site-packages (from langsmith>=0.1.17->langchain) (1.0.0)\n",
      "Requirement already satisfied: zstandard<0.24.0,>=0.23.0 in /var/www/html/learn/gen-ai/genai-rag-playground/app-env/lib/python3.12/site-packages (from langsmith>=0.1.17->langchain) (0.23.0)\n",
      "Requirement already satisfied: annotated-types>=0.6.0 in /var/www/html/learn/gen-ai/genai-rag-playground/app-env/lib/python3.12/site-packages (from pydantic<3.0.0,>=2.7.4->langchain) (0.7.0)\n",
      "Requirement already satisfied: pydantic-core==2.33.2 in /var/www/html/learn/gen-ai/genai-rag-playground/app-env/lib/python3.12/site-packages (from pydantic<3.0.0,>=2.7.4->langchain) (2.33.2)\n",
      "Requirement already satisfied: typing-inspection>=0.4.0 in /var/www/html/learn/gen-ai/genai-rag-playground/app-env/lib/python3.12/site-packages (from pydantic<3.0.0,>=2.7.4->langchain) (0.4.1)\n",
      "Requirement already satisfied: charset-normalizer<4,>=2 in /var/www/html/learn/gen-ai/genai-rag-playground/app-env/lib/python3.12/site-packages (from requests<3,>=2->langchain) (3.4.0)\n",
      "Requirement already satisfied: idna<4,>=2.5 in /var/www/html/learn/gen-ai/genai-rag-playground/app-env/lib/python3.12/site-packages (from requests<3,>=2->langchain) (3.10)\n",
      "Requirement already satisfied: urllib3<3,>=1.21.1 in /var/www/html/learn/gen-ai/genai-rag-playground/app-env/lib/python3.12/site-packages (from requests<3,>=2->langchain) (2.2.3)\n",
      "Requirement already satisfied: certifi>=2017.4.17 in /var/www/html/learn/gen-ai/genai-rag-playground/app-env/lib/python3.12/site-packages (from requests<3,>=2->langchain) (2024.8.30)\n",
      "Requirement already satisfied: greenlet>=1 in /var/www/html/learn/gen-ai/genai-rag-playground/app-env/lib/python3.12/site-packages (from SQLAlchemy<3,>=1.4->langchain) (3.2.3)\n",
      "Requirement already satisfied: httplib2<1.0.0,>=0.19.0 in /var/www/html/learn/gen-ai/genai-rag-playground/app-env/lib/python3.12/site-packages (from google-api-python-client->google-generativeai) (0.22.0)\n",
      "Requirement already satisfied: google-auth-httplib2<1.0.0,>=0.2.0 in /var/www/html/learn/gen-ai/genai-rag-playground/app-env/lib/python3.12/site-packages (from google-api-python-client->google-generativeai) (0.2.0)\n",
      "Requirement already satisfied: uritemplate<5,>=3.0.1 in /var/www/html/learn/gen-ai/genai-rag-playground/app-env/lib/python3.12/site-packages (from google-api-python-client->google-generativeai) (4.2.0)\n",
      "Requirement already satisfied: grpcio<2.0.0,>=1.33.2 in /var/www/html/learn/gen-ai/genai-rag-playground/app-env/lib/python3.12/site-packages (from google-api-core[grpc]!=2.0.*,!=2.1.*,!=2.10.*,!=2.2.*,!=2.3.*,!=2.4.*,!=2.5.*,!=2.6.*,!=2.7.*,!=2.8.*,!=2.9.*,<3.0.0dev,>=1.34.1->google-ai-generativelanguage==0.6.15->google-generativeai) (1.73.1)\n",
      "Requirement already satisfied: grpcio-status<2.0.0,>=1.33.2 in /var/www/html/learn/gen-ai/genai-rag-playground/app-env/lib/python3.12/site-packages (from google-api-core[grpc]!=2.0.*,!=2.1.*,!=2.10.*,!=2.2.*,!=2.3.*,!=2.4.*,!=2.5.*,!=2.6.*,!=2.7.*,!=2.8.*,!=2.9.*,<3.0.0dev,>=1.34.1->google-ai-generativelanguage==0.6.15->google-generativeai) (1.71.2)\n",
      "Requirement already satisfied: pyparsing!=3.0.0,!=3.0.1,!=3.0.2,!=3.0.3,<4,>=2.4.2 in /var/www/html/learn/gen-ai/genai-rag-playground/app-env/lib/python3.12/site-packages (from httplib2<1.0.0,>=0.19.0->google-api-python-client->google-generativeai) (3.2.3)\n",
      "Requirement already satisfied: anyio in /var/www/html/learn/gen-ai/genai-rag-playground/app-env/lib/python3.12/site-packages (from httpx<1,>=0.23.0->langsmith>=0.1.17->langchain) (4.6.2.post1)\n",
      "Requirement already satisfied: httpcore==1.* in /var/www/html/learn/gen-ai/genai-rag-playground/app-env/lib/python3.12/site-packages (from httpx<1,>=0.23.0->langsmith>=0.1.17->langchain) (1.0.7)\n",
      "Requirement already satisfied: sniffio in /var/www/html/learn/gen-ai/genai-rag-playground/app-env/lib/python3.12/site-packages (from httpx<1,>=0.23.0->langsmith>=0.1.17->langchain) (1.3.1)\n",
      "Requirement already satisfied: h11<0.15,>=0.13 in /var/www/html/learn/gen-ai/genai-rag-playground/app-env/lib/python3.12/site-packages (from httpcore==1.*->httpx<1,>=0.23.0->langsmith>=0.1.17->langchain) (0.14.0)\n",
      "Requirement already satisfied: jsonpointer>=1.9 in /var/www/html/learn/gen-ai/genai-rag-playground/app-env/lib/python3.12/site-packages (from jsonpatch<2.0,>=1.33->langchain-core<1.0.0,>=0.3.66->langchain) (3.0.0)\n",
      "Requirement already satisfied: pyasn1<0.7.0,>=0.4.6 in /var/www/html/learn/gen-ai/genai-rag-playground/app-env/lib/python3.12/site-packages (from pyasn1-modules>=0.2.1->google-auth>=2.15.0->google-generativeai) (0.6.1)\n",
      "Note: you may need to restart the kernel to use updated packages.\n"
     ]
    }
   ],
   "source": [
    "%pip install langchain langchain-google-genai google-generativeai"
   ]
  },
  {
   "cell_type": "code",
   "execution_count": 3,
   "id": "789a34d4",
   "metadata": {},
   "outputs": [
    {
     "name": "stdout",
     "output_type": "stream",
     "text": [
      "Requirement already satisfied: python-dotenv in /var/www/html/learn/gen-ai/genai-rag-playground/app-env/lib/python3.12/site-packages (1.0.1)\n",
      "Note: you may need to restart the kernel to use updated packages.\n"
     ]
    }
   ],
   "source": [
    "%pip install python-dotenv"
   ]
  },
  {
   "cell_type": "code",
   "execution_count": 6,
   "id": "3821c5ae",
   "metadata": {},
   "outputs": [],
   "source": [
    "import os\n",
    "from dotenv import load_dotenv\n",
    "\n",
    "load_dotenv()\n",
    "from langchain_google_genai import ChatGoogleGenerativeAI\n",
    "GEMINI_API_KEY = os.getenv(\"GEMINI_API_KEY\")\n",
    "os.environ['GEMINI_API_KEY'] = GEMINI_API_KEY"
   ]
  },
  {
   "cell_type": "code",
   "execution_count": 7,
   "id": "f95950a9",
   "metadata": {},
   "outputs": [],
   "source": [
    "import google.generativeai as genai\n",
    "# for model in genai.list_models():\n",
    "#     print(model)\n",
    "# Initialize Gemini Pro model\n",
    "llm = ChatGoogleGenerativeAI(model=\"gemini-1.5-flash\", temperature=0.7, google_api_key=GEMINI_API_KEY)\n"
   ]
  },
  {
   "cell_type": "code",
   "execution_count": 8,
   "id": "6ced1762",
   "metadata": {},
   "outputs": [
    {
     "name": "stdout",
     "output_type": "stream",
     "text": [
      "No, `$(` by itself is incomplete.  To open a Bootstrap modal popup using jQuery, you need to complete the selector and use the `.modal('show')` method.\n",
      "\n",
      "Here's how you do it:\n",
      "\n",
      "**Method 1:  Using the modal's ID**\n",
      "\n",
      "This is the most common and recommended approach.  Assume your modal has an ID of `myModal`:\n",
      "\n",
      "```javascript\n",
      "$('#myModal').modal('show');\n",
      "```\n",
      "\n",
      "This line of code:\n",
      "\n",
      "* `$('#myModal')`: Selects the HTML element with the ID \"myModal\" using jQuery.  This is crucial; it targets the specific modal you want to open.\n",
      "* `.modal('show')`:  This is the Bootstrap method that displays the modal.\n",
      "\n",
      "\n",
      "**Method 2: Using a data attribute (less common, but useful in some cases)**\n",
      "\n",
      "If you've added a data attribute to a button that triggers the modal, you can use that:\n",
      "\n",
      "```html\n",
      "<button data-bs-toggle=\"modal\" data-bs-target=\"#myModal\">Open Modal</button>\n",
      "```\n",
      "\n",
      "```javascript\n",
      "// This is less common as the data attribute handles it by default\n",
      "$('[data-bs-target=\"#myModal\"]').click(); // Simulates a click to trigger the modal\n",
      "```\n",
      "\n",
      "This method simulates a click on the button, which will then trigger Bootstrap's default modal opening behavior.  Generally, you don't need this if you're programmatically opening the modal.\n",
      "\n",
      "\n",
      "**Important Considerations:**\n",
      "\n",
      "* **Include jQuery and Bootstrap:** Make sure you've included both the jQuery library and Bootstrap's JavaScript file in your HTML `<head>` or before your script.  The order matters; jQuery needs to be loaded *before* Bootstrap.\n",
      "* **Correct Modal ID:** Double-check that the ID you're using (`myModal` in the examples) exactly matches the `id` attribute of your modal in your HTML.  Case sensitivity matters!\n",
      "* **Bootstrap Version:**  The `data-bs-toggle` and `data-bs-target` attributes are for Bootstrap 5.  For Bootstrap 4, you would use `data-toggle` and `data-target`.  Make sure your code matches your Bootstrap version.\n",
      "\n",
      "\n",
      "**Example HTML (Bootstrap 5):**\n",
      "\n",
      "```html\n",
      "<!DOCTYPE html>\n",
      "<html>\n",
      "<head>\n",
      "  <link href=\"https://cdn.jsdelivr.net/npm/bootstrap@5.3.0/dist/css/bootstrap.min.css\" rel=\"stylesheet\">\n",
      "  <script src=\"https://code.jquery.com/jquery-3.6.0.min.js\"></script>\n",
      "  <script src=\"https://cdn.jsdelivr.net/npm/bootstrap@5.3.0/dist/js/bootstrap.bundle.min.js\"></script>\n",
      "</head>\n",
      "<body>\n",
      "\n",
      "<button id=\"openModalButton\">Open Modal</button>\n",
      "\n",
      "<div class=\"modal fade\" id=\"myModal\" tabindex=\"-1\" aria-labelledby=\"myModalLabel\" aria-hidden=\"true\">\n",
      "  <div class=\"modal-dialog\">\n",
      "    <div class=\"modal-content\">\n",
      "      <div class=\"modal-header\">\n",
      "        <h5 class=\"modal-title\" id=\"myModalLabel\">Modal title</h5>\n",
      "        <button type=\"button\" class=\"btn-close\" data-bs-dismiss=\"modal\" aria-label=\"Close\"></button>\n",
      "      </div>\n",
      "      <div class=\"modal-body\">\n",
      "        ...\n",
      "      </div>\n",
      "      <div class=\"modal-footer\">\n",
      "        <button type=\"button\" class=\"btn btn-secondary\" data-bs-dismiss=\"modal\">Close</button>\n",
      "        <button type=\"button\" class=\"btn btn-primary\">Save changes</button>\n",
      "      </div>\n",
      "    </div>\n",
      "  </div>\n",
      "</div>\n",
      "\n",
      "<script>\n",
      "  $('#openModalButton').click(function() {\n",
      "    $('#myModal').modal('show');\n",
      "  });\n",
      "</script>\n",
      "\n",
      "</body>\n",
      "</html>\n",
      "```\n",
      "\n",
      "Remember to replace the placeholder content within the modal with your actual content.  This complete example shows how to properly integrate jQuery and Bootstrap to open a modal.\n"
     ]
    }
   ],
   "source": [
    "query = \"can we open bootstrap modal popup by this code : $(\"#aeps-2fa-aadhaar-modal-wo-otp\").show();\"\n",
    "response = llm.invoke(query)\n",
    "print(response.text())"
   ]
  }
 ],
 "metadata": {
  "kernelspec": {
   "display_name": "app-env",
   "language": "python",
   "name": "python3"
  },
  "language_info": {
   "codemirror_mode": {
    "name": "ipython",
    "version": 3
   },
   "file_extension": ".py",
   "mimetype": "text/x-python",
   "name": "python",
   "nbconvert_exporter": "python",
   "pygments_lexer": "ipython3",
   "version": "3.12.3"
  }
 },
 "nbformat": 4,
 "nbformat_minor": 5
}
